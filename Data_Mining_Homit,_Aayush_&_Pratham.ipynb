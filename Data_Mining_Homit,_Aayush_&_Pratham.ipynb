{
  "cells": [
    {
      "cell_type": "markdown",
      "metadata": {
        "id": "UNSnwRCsaTOK"
      },
      "source": [
        "<center>\n",
        "<img height=\"100px\" width=\"100px\" src=\"data:image/png;base64,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\">\n",
        "\n",
        "\n",
        "<img src=\"https://encrypted-tbn0.gstatic.com/images?q=tbn:ANd9GcTMTxu1oYc19-4CfNQUbPBBic_seoLxSEYmSw&usqp=CAU\" height=\"95px\" width=\"95px\">\n",
        "<br>\n",
        "\n",
        "\n",
        "C.K.Pithawala College of Engineering and Technology, Surat<br>\n",
        "Name : Pratham Mayur Ariwala<br>\n",
        "Enrollment No : 200090107112<br>\n",
        "Div. : B<br>\n",
        "Subject : Data Mining<br>\n",
        "Subject Code : 3160714<br>\n",
        "Dataset : <br>\n",
        "[Dataset Link](https://www.kaggle.com/datasets/iamsouravbanerjee/house-rent-prediction-dataset?select=House_Rent_Dataset.csv)<br>\n",
        "Academic Year : 2022-2023<br>\n",
        "Subject Faculty : Dr. Ami Tusharkant Choksi<br>"
      ]
    },
    {
      "cell_type": "markdown",
      "metadata": {
        "id": "eF5BH5YCbAY0"
      },
      "source": [
        "1. Analyze 5 data sets from the UCI repository. Print the following details about each data set<br>\n",
        "(a) number of records/instances<br> (b) number of incomplete records<br> (c) number of attributes\n"
      ]
    },
    {
      "cell_type": "code",
      "execution_count": null,
      "metadata": {
        "id": "grONWWuDf9JV"
      },
      "outputs": [],
      "source": [
        "import pandas as pd"
      ]
    },
    {
      "cell_type": "code",
      "execution_count": null,
      "metadata": {
        "colab": {
          "base_uri": "https://localhost:8080/"
        },
        "id": "fjx1DmIxgKRc",
        "outputId": "537762df-dc09-424b-f820-9c5b3698123e"
      },
      "outputs": [
        {
          "name": "stdout",
          "output_type": "stream",
          "text": [
            "   Rank             Youtube Channel  Subscribers      Video Views Video Count  \\\n",
            "0     1                    T-Series  234,000,000  212,900,271,553      18,515   \n",
            "1     2              YouTube Movies  161,000,000                0           0   \n",
            "2     3  Cocomelon - Nursery Rhymes  152,000,000  149,084,178,448         846   \n",
            "3     4                   SET India  150,000,000  137,828,094,104     103,200   \n",
            "4     5                     MrBeast  128,000,000   21,549,128,785         733   \n",
            "\n",
            "           Category  Started  \n",
            "0             Music     2006  \n",
            "1  Film & Animation     2015  \n",
            "2         Education     2006  \n",
            "3             Shows     2006  \n",
            "4     Entertainment     2012  \n",
            "Number of records/instances = 1000\n",
            "Number of incomplete records = 0\n",
            "Number of attributes = 7\n",
            "          order_id order_date ship_date       ship_mode    customer_name  \\\n",
            "0     AG-2011-2040   1/1/2011  6/1/2011  Standard Class  Toby Braunhardt   \n",
            "1    IN-2011-47883   1/1/2011  8/1/2011  Standard Class      Joseph Holt   \n",
            "2     HU-2011-1220   1/1/2011  5/1/2011    Second Class    Annie Thurman   \n",
            "3  IT-2011-3647632   1/1/2011  5/1/2011    Second Class     Eugene Moren   \n",
            "4    IN-2011-47883   1/1/2011  8/1/2011  Standard Class      Joseph Holt   \n",
            "\n",
            "       segment            state    country  market   region  ...  \\\n",
            "0     Consumer      Constantine    Algeria  Africa   Africa  ...   \n",
            "1     Consumer  New South Wales  Australia    APAC  Oceania  ...   \n",
            "2     Consumer         Budapest    Hungary    EMEA     EMEA  ...   \n",
            "3  Home Office        Stockholm     Sweden      EU    North  ...   \n",
            "4     Consumer  New South Wales  Australia    APAC  Oceania  ...   \n",
            "\n",
            "          category sub_category                 product_name sales quantity  \\\n",
            "0  Office Supplies      Storage          Tenex Lockers, Blue   408        2   \n",
            "1  Office Supplies     Supplies     Acme Trimmer, High Speed   120        3   \n",
            "2  Office Supplies      Storage      Tenex Box, Single Width    66        4   \n",
            "3  Office Supplies        Paper  Enermax Note Cards, Premium    45        3   \n",
            "4        Furniture  Furnishings   Eldon Light Bulb, Duo Pack   114        5   \n",
            "\n",
            "   discount   profit  shipping_cost  order_priority  year  \n",
            "0       0.0  106.140          35.46          Medium  2011  \n",
            "1       0.1   36.036           9.72          Medium  2011  \n",
            "2       0.0   29.640           8.17            High  2011  \n",
            "3       0.5  -26.055           4.82            High  2011  \n",
            "4       0.1   37.770           4.70          Medium  2011  \n",
            "\n",
            "[5 rows x 21 columns]\n",
            "Number of records/instances = 51290\n",
            "Number of incomplete records = 0\n",
            "Number of attributes = 21\n",
            "                                                 App        Category  Rating  \\\n",
            "0     Photo Editor & Candy Camera & Grid & ScrapBook  ART_AND_DESIGN     4.1   \n",
            "1                                Coloring book moana  ART_AND_DESIGN     3.9   \n",
            "2  U Launcher Lite – FREE Live Cool Themes, Hide ...  ART_AND_DESIGN     4.7   \n",
            "3                              Sketch - Draw & Paint  ART_AND_DESIGN     4.5   \n",
            "4              Pixel Draw - Number Art Coloring Book  ART_AND_DESIGN     4.3   \n",
            "\n",
            "  Reviews  Size     Installs  Type Price Content Rating  \\\n",
            "0     159   19M      10,000+  Free     0       Everyone   \n",
            "1     967   14M     500,000+  Free     0       Everyone   \n",
            "2   87510  8.7M   5,000,000+  Free     0       Everyone   \n",
            "3  215644   25M  50,000,000+  Free     0           Teen   \n",
            "4     967  2.8M     100,000+  Free     0       Everyone   \n",
            "\n",
            "                      Genres      Last Updated         Current Ver  \\\n",
            "0               Art & Design   January 7, 2018               1.0.0   \n",
            "1  Art & Design;Pretend Play  January 15, 2018               2.0.0   \n",
            "2               Art & Design    August 1, 2018               1.2.4   \n",
            "3               Art & Design      June 8, 2018  Varies with device   \n",
            "4    Art & Design;Creativity     June 20, 2018                 1.1   \n",
            "\n",
            "    Android Ver  \n",
            "0  4.0.3 and up  \n",
            "1  4.0.3 and up  \n",
            "2  4.0.3 and up  \n",
            "3    4.2 and up  \n",
            "4    4.4 and up  \n",
            "Number of records/instances = 10841\n",
            "Number of incomplete records = 1487\n",
            "Number of attributes = 13\n",
            "  show_id     type                  title         director  \\\n",
            "0      s1    Movie   Dick Johnson Is Dead  Kirsten Johnson   \n",
            "1      s2  TV Show          Blood & Water              NaN   \n",
            "2      s3  TV Show              Ganglands  Julien Leclercq   \n",
            "3      s4  TV Show  Jailbirds New Orleans              NaN   \n",
            "4      s5  TV Show           Kota Factory              NaN   \n",
            "\n",
            "                                                cast        country  \\\n",
            "0                                                NaN  United States   \n",
            "1  Ama Qamata, Khosi Ngema, Gail Mabalane, Thaban...   South Africa   \n",
            "2  Sami Bouajila, Tracy Gotoas, Samuel Jouy, Nabi...            NaN   \n",
            "3                                                NaN            NaN   \n",
            "4  Mayur More, Jitendra Kumar, Ranjan Raj, Alam K...          India   \n",
            "\n",
            "           date_added  release_year rating   duration  \\\n",
            "0  September 25, 2021          2020  PG-13     90 min   \n",
            "1  September 24, 2021          2021  TV-MA  2 Seasons   \n",
            "2  September 24, 2021          2021  TV-MA   1 Season   \n",
            "3  September 24, 2021          2021  TV-MA   1 Season   \n",
            "4  September 24, 2021          2021  TV-MA  2 Seasons   \n",
            "\n",
            "                                           listed_in  \\\n",
            "0                                      Documentaries   \n",
            "1    International TV Shows, TV Dramas, TV Mysteries   \n",
            "2  Crime TV Shows, International TV Shows, TV Act...   \n",
            "3                             Docuseries, Reality TV   \n",
            "4  International TV Shows, Romantic TV Shows, TV ...   \n",
            "\n",
            "                                         description  \n",
            "0  As her father nears the end of his life, filmm...  \n",
            "1  After crossing paths at a party, a Cape Town t...  \n",
            "2  To protect his family from a powerful drug lor...  \n",
            "3  Feuds, flirtations and toilet talk go down amo...  \n",
            "4  In a city of coaching centers known to train I...  \n",
            "Number of records/instances = 8807\n",
            "Number of incomplete records = 4307\n",
            "Number of attributes = 12\n",
            "   Unnamed: 0                                Name Sex   Age            Team  \\\n",
            "0           0                           A Dijiang   M  24.0           China   \n",
            "1           1                            A Lamusi   M  23.0           China   \n",
            "2           2                 Gunnar Nielsen Aaby   M  24.0         Denmark   \n",
            "3           3                Edgar Lindenau Aabye   M  34.0  Denmark/Sweden   \n",
            "4          26  Cornelia \"Cor\" Aalten (-Strannood)   F  18.0     Netherlands   \n",
            "\n",
            "   NOC        Games  Year  Season         City       Sport  \\\n",
            "0  CHN  1992 Summer  1992  Summer    Barcelona  Basketball   \n",
            "1  CHN  2012 Summer  2012  Summer       London        Judo   \n",
            "2  DEN  1920 Summer  1920  Summer    Antwerpen    Football   \n",
            "3  DEN  1900 Summer  1900  Summer        Paris  Tug-Of-War   \n",
            "4  NED  1932 Summer  1932  Summer  Los Angeles   Athletics   \n",
            "\n",
            "                          Event Medal  \n",
            "0   Basketball Men's Basketball   NaN  \n",
            "1  Judo Men's Extra-Lightweight   NaN  \n",
            "2       Football Men's Football   NaN  \n",
            "3   Tug-Of-War Men's Tug-Of-War  Gold  \n",
            "4  Athletics Women's 100 metres   NaN  \n",
            "Number of records/instances = 237673\n",
            "Number of incomplete records = 210325\n",
            "Number of attributes = 13\n"
          ]
        }
      ],
      "source": [
        "dataList = ['topSubscribed.csv','SuperStoreOrders.csv','googleplaystore.csv','netflix_titles_2021.csv','Athletes_summer_games.csv']\n",
        "\n",
        "for i in range(5):\n",
        "  current_data=pd.read_csv(dataList[i])\n",
        "  df_current_data=pd.DataFrame(current_data)\n",
        "  print(df_current_data.head())\n",
        "  print(\"Number of records/instances = \" + str(df_current_data.shape[0]))\n",
        "  print(\"Number of incomplete records = \" + str(df_current_data.isna().sum().sum()))\n",
        "  print(\"Number of attributes = \" + str(df_current_data.shape[1]))"
      ]
    },
    {
      "cell_type": "markdown",
      "metadata": {
        "id": "RfEwfEgtu_KU"
      },
      "source": [
        "**Q2**.Write a program to implement data cleaning(incomplete, noisy, inconsistent, redundant) on your data set. Implement each technique.<br>\n",
        "(a)Binning with means and/or mode, boundary<br> \n",
        "(b)Find covariance(cov) and correlation(r), Sx and Sy are standard deviation, x̅ and ȳ are means.<br>\n",
        " Cov(x,y) = i=1n(Xi-X)(Yi-Y)/(n-1)<br>\n",
        " r(x,y) =Cov(x,y)/sxsy\n"
      ]
    },
    {
      "cell_type": "code",
      "execution_count": null,
      "metadata": {
        "id": "o23ZfifavAPj"
      },
      "outputs": [],
      "source": [
        "import pandas as pd\n",
        "from numpy import array as nparray\n",
        "\n",
        "def binning_2(data,binlength):\n",
        "    new_data = []\n",
        "    k = 0\n",
        "    for i in range(int(len(data)/binlength)):\n",
        "\n",
        "        list1 = []\n",
        "        for j in range(binlength):\n",
        "            list1.append(data[k])\n",
        "            k=k+1\n",
        "        new_data.append(list1)\n",
        "    return(new_data)\n",
        "\n",
        "\n",
        "\n",
        "data1 = pd.read_csv('application_record.csv')\n",
        "\n",
        "df = pd.DataFrame(data1)\n",
        "df\n",
        "\n",
        "data = list(df['AMT_INCOME_TOTAL'])\n",
        "\n",
        "print(binning_2(data,10))\n",
        "\n"
      ]
    },
    {
      "cell_type": "markdown",
      "metadata": {
        "id": "YbPZ7UIWkmm3"
      },
      "source": [
        "**Q3.** Implement a chi-square test to detect whether two variables are dependent or independent variables for your dataset.\n"
      ]
    },
    {
      "cell_type": "code",
      "execution_count": 3,
      "metadata": {
        "id": "PBWILQkWmPdv"
      },
      "outputs": [
        {
          "ename": "FileNotFoundError",
          "evalue": "[Errno 2] No such file or directory: 'application_record.csv'",
          "output_type": "error",
          "traceback": [
            "\u001b[1;31m---------------------------------------------------------------------------\u001b[0m",
            "\u001b[1;31mFileNotFoundError\u001b[0m                         Traceback (most recent call last)",
            "Cell \u001b[1;32mIn[3], line 6\u001b[0m\n\u001b[0;32m      2\u001b[0m \u001b[39mimport\u001b[39;00m \u001b[39mpandas\u001b[39;00m \u001b[39mas\u001b[39;00m \u001b[39mpd\u001b[39;00m\n\u001b[0;32m      4\u001b[0m \u001b[39m# defining the table\u001b[39;00m\n\u001b[1;32m----> 6\u001b[0m data \u001b[39m=\u001b[39m pd\u001b[39m.\u001b[39;49mread_csv(\u001b[39m\"\u001b[39;49m\u001b[39mapplication_record.csv\u001b[39;49m\u001b[39m\"\u001b[39;49m)\n\u001b[0;32m      7\u001b[0m df \u001b[39m=\u001b[39m pd\u001b[39m.\u001b[39mDataFrame(data)\n\u001b[0;32m      9\u001b[0m data2 \u001b[39m=\u001b[39m [df[\u001b[39m'\u001b[39m\u001b[39mAMT_INCOME_TOTAL\u001b[39m\u001b[39m'\u001b[39m], df[\u001b[39m'\u001b[39m\u001b[39mCNT_FAM_MEMBERS\u001b[39m\u001b[39m'\u001b[39m]]\n",
            "File \u001b[1;32mc:\\Users\\aayus\\AppData\\Local\\Programs\\Python\\Python310\\lib\\site-packages\\pandas\\util\\_decorators.py:211\u001b[0m, in \u001b[0;36mdeprecate_kwarg.<locals>._deprecate_kwarg.<locals>.wrapper\u001b[1;34m(*args, **kwargs)\u001b[0m\n\u001b[0;32m    209\u001b[0m     \u001b[39melse\u001b[39;00m:\n\u001b[0;32m    210\u001b[0m         kwargs[new_arg_name] \u001b[39m=\u001b[39m new_arg_value\n\u001b[1;32m--> 211\u001b[0m \u001b[39mreturn\u001b[39;00m func(\u001b[39m*\u001b[39margs, \u001b[39m*\u001b[39m\u001b[39m*\u001b[39mkwargs)\n",
            "File \u001b[1;32mc:\\Users\\aayus\\AppData\\Local\\Programs\\Python\\Python310\\lib\\site-packages\\pandas\\util\\_decorators.py:331\u001b[0m, in \u001b[0;36mdeprecate_nonkeyword_arguments.<locals>.decorate.<locals>.wrapper\u001b[1;34m(*args, **kwargs)\u001b[0m\n\u001b[0;32m    325\u001b[0m \u001b[39mif\u001b[39;00m \u001b[39mlen\u001b[39m(args) \u001b[39m>\u001b[39m num_allow_args:\n\u001b[0;32m    326\u001b[0m     warnings\u001b[39m.\u001b[39mwarn(\n\u001b[0;32m    327\u001b[0m         msg\u001b[39m.\u001b[39mformat(arguments\u001b[39m=\u001b[39m_format_argument_list(allow_args)),\n\u001b[0;32m    328\u001b[0m         \u001b[39mFutureWarning\u001b[39;00m,\n\u001b[0;32m    329\u001b[0m         stacklevel\u001b[39m=\u001b[39mfind_stack_level(),\n\u001b[0;32m    330\u001b[0m     )\n\u001b[1;32m--> 331\u001b[0m \u001b[39mreturn\u001b[39;00m func(\u001b[39m*\u001b[39margs, \u001b[39m*\u001b[39m\u001b[39m*\u001b[39mkwargs)\n",
            "File \u001b[1;32mc:\\Users\\aayus\\AppData\\Local\\Programs\\Python\\Python310\\lib\\site-packages\\pandas\\io\\parsers\\readers.py:950\u001b[0m, in \u001b[0;36mread_csv\u001b[1;34m(filepath_or_buffer, sep, delimiter, header, names, index_col, usecols, squeeze, prefix, mangle_dupe_cols, dtype, engine, converters, true_values, false_values, skipinitialspace, skiprows, skipfooter, nrows, na_values, keep_default_na, na_filter, verbose, skip_blank_lines, parse_dates, infer_datetime_format, keep_date_col, date_parser, dayfirst, cache_dates, iterator, chunksize, compression, thousands, decimal, lineterminator, quotechar, quoting, doublequote, escapechar, comment, encoding, encoding_errors, dialect, error_bad_lines, warn_bad_lines, on_bad_lines, delim_whitespace, low_memory, memory_map, float_precision, storage_options)\u001b[0m\n\u001b[0;32m    935\u001b[0m kwds_defaults \u001b[39m=\u001b[39m _refine_defaults_read(\n\u001b[0;32m    936\u001b[0m     dialect,\n\u001b[0;32m    937\u001b[0m     delimiter,\n\u001b[1;32m   (...)\u001b[0m\n\u001b[0;32m    946\u001b[0m     defaults\u001b[39m=\u001b[39m{\u001b[39m\"\u001b[39m\u001b[39mdelimiter\u001b[39m\u001b[39m\"\u001b[39m: \u001b[39m\"\u001b[39m\u001b[39m,\u001b[39m\u001b[39m\"\u001b[39m},\n\u001b[0;32m    947\u001b[0m )\n\u001b[0;32m    948\u001b[0m kwds\u001b[39m.\u001b[39mupdate(kwds_defaults)\n\u001b[1;32m--> 950\u001b[0m \u001b[39mreturn\u001b[39;00m _read(filepath_or_buffer, kwds)\n",
            "File \u001b[1;32mc:\\Users\\aayus\\AppData\\Local\\Programs\\Python\\Python310\\lib\\site-packages\\pandas\\io\\parsers\\readers.py:605\u001b[0m, in \u001b[0;36m_read\u001b[1;34m(filepath_or_buffer, kwds)\u001b[0m\n\u001b[0;32m    602\u001b[0m _validate_names(kwds\u001b[39m.\u001b[39mget(\u001b[39m\"\u001b[39m\u001b[39mnames\u001b[39m\u001b[39m\"\u001b[39m, \u001b[39mNone\u001b[39;00m))\n\u001b[0;32m    604\u001b[0m \u001b[39m# Create the parser.\u001b[39;00m\n\u001b[1;32m--> 605\u001b[0m parser \u001b[39m=\u001b[39m TextFileReader(filepath_or_buffer, \u001b[39m*\u001b[39m\u001b[39m*\u001b[39mkwds)\n\u001b[0;32m    607\u001b[0m \u001b[39mif\u001b[39;00m chunksize \u001b[39mor\u001b[39;00m iterator:\n\u001b[0;32m    608\u001b[0m     \u001b[39mreturn\u001b[39;00m parser\n",
            "File \u001b[1;32mc:\\Users\\aayus\\AppData\\Local\\Programs\\Python\\Python310\\lib\\site-packages\\pandas\\io\\parsers\\readers.py:1442\u001b[0m, in \u001b[0;36mTextFileReader.__init__\u001b[1;34m(self, f, engine, **kwds)\u001b[0m\n\u001b[0;32m   1439\u001b[0m     \u001b[39mself\u001b[39m\u001b[39m.\u001b[39moptions[\u001b[39m\"\u001b[39m\u001b[39mhas_index_names\u001b[39m\u001b[39m\"\u001b[39m] \u001b[39m=\u001b[39m kwds[\u001b[39m\"\u001b[39m\u001b[39mhas_index_names\u001b[39m\u001b[39m\"\u001b[39m]\n\u001b[0;32m   1441\u001b[0m \u001b[39mself\u001b[39m\u001b[39m.\u001b[39mhandles: IOHandles \u001b[39m|\u001b[39m \u001b[39mNone\u001b[39;00m \u001b[39m=\u001b[39m \u001b[39mNone\u001b[39;00m\n\u001b[1;32m-> 1442\u001b[0m \u001b[39mself\u001b[39m\u001b[39m.\u001b[39m_engine \u001b[39m=\u001b[39m \u001b[39mself\u001b[39;49m\u001b[39m.\u001b[39;49m_make_engine(f, \u001b[39mself\u001b[39;49m\u001b[39m.\u001b[39;49mengine)\n",
            "File \u001b[1;32mc:\\Users\\aayus\\AppData\\Local\\Programs\\Python\\Python310\\lib\\site-packages\\pandas\\io\\parsers\\readers.py:1735\u001b[0m, in \u001b[0;36mTextFileReader._make_engine\u001b[1;34m(self, f, engine)\u001b[0m\n\u001b[0;32m   1733\u001b[0m     \u001b[39mif\u001b[39;00m \u001b[39m\"\u001b[39m\u001b[39mb\u001b[39m\u001b[39m\"\u001b[39m \u001b[39mnot\u001b[39;00m \u001b[39min\u001b[39;00m mode:\n\u001b[0;32m   1734\u001b[0m         mode \u001b[39m+\u001b[39m\u001b[39m=\u001b[39m \u001b[39m\"\u001b[39m\u001b[39mb\u001b[39m\u001b[39m\"\u001b[39m\n\u001b[1;32m-> 1735\u001b[0m \u001b[39mself\u001b[39m\u001b[39m.\u001b[39mhandles \u001b[39m=\u001b[39m get_handle(\n\u001b[0;32m   1736\u001b[0m     f,\n\u001b[0;32m   1737\u001b[0m     mode,\n\u001b[0;32m   1738\u001b[0m     encoding\u001b[39m=\u001b[39;49m\u001b[39mself\u001b[39;49m\u001b[39m.\u001b[39;49moptions\u001b[39m.\u001b[39;49mget(\u001b[39m\"\u001b[39;49m\u001b[39mencoding\u001b[39;49m\u001b[39m\"\u001b[39;49m, \u001b[39mNone\u001b[39;49;00m),\n\u001b[0;32m   1739\u001b[0m     compression\u001b[39m=\u001b[39;49m\u001b[39mself\u001b[39;49m\u001b[39m.\u001b[39;49moptions\u001b[39m.\u001b[39;49mget(\u001b[39m\"\u001b[39;49m\u001b[39mcompression\u001b[39;49m\u001b[39m\"\u001b[39;49m, \u001b[39mNone\u001b[39;49;00m),\n\u001b[0;32m   1740\u001b[0m     memory_map\u001b[39m=\u001b[39;49m\u001b[39mself\u001b[39;49m\u001b[39m.\u001b[39;49moptions\u001b[39m.\u001b[39;49mget(\u001b[39m\"\u001b[39;49m\u001b[39mmemory_map\u001b[39;49m\u001b[39m\"\u001b[39;49m, \u001b[39mFalse\u001b[39;49;00m),\n\u001b[0;32m   1741\u001b[0m     is_text\u001b[39m=\u001b[39;49mis_text,\n\u001b[0;32m   1742\u001b[0m     errors\u001b[39m=\u001b[39;49m\u001b[39mself\u001b[39;49m\u001b[39m.\u001b[39;49moptions\u001b[39m.\u001b[39;49mget(\u001b[39m\"\u001b[39;49m\u001b[39mencoding_errors\u001b[39;49m\u001b[39m\"\u001b[39;49m, \u001b[39m\"\u001b[39;49m\u001b[39mstrict\u001b[39;49m\u001b[39m\"\u001b[39;49m),\n\u001b[0;32m   1743\u001b[0m     storage_options\u001b[39m=\u001b[39;49m\u001b[39mself\u001b[39;49m\u001b[39m.\u001b[39;49moptions\u001b[39m.\u001b[39;49mget(\u001b[39m\"\u001b[39;49m\u001b[39mstorage_options\u001b[39;49m\u001b[39m\"\u001b[39;49m, \u001b[39mNone\u001b[39;49;00m),\n\u001b[0;32m   1744\u001b[0m )\n\u001b[0;32m   1745\u001b[0m \u001b[39massert\u001b[39;00m \u001b[39mself\u001b[39m\u001b[39m.\u001b[39mhandles \u001b[39mis\u001b[39;00m \u001b[39mnot\u001b[39;00m \u001b[39mNone\u001b[39;00m\n\u001b[0;32m   1746\u001b[0m f \u001b[39m=\u001b[39m \u001b[39mself\u001b[39m\u001b[39m.\u001b[39mhandles\u001b[39m.\u001b[39mhandle\n",
            "File \u001b[1;32mc:\\Users\\aayus\\AppData\\Local\\Programs\\Python\\Python310\\lib\\site-packages\\pandas\\io\\common.py:856\u001b[0m, in \u001b[0;36mget_handle\u001b[1;34m(path_or_buf, mode, encoding, compression, memory_map, is_text, errors, storage_options)\u001b[0m\n\u001b[0;32m    851\u001b[0m \u001b[39melif\u001b[39;00m \u001b[39misinstance\u001b[39m(handle, \u001b[39mstr\u001b[39m):\n\u001b[0;32m    852\u001b[0m     \u001b[39m# Check whether the filename is to be opened in binary mode.\u001b[39;00m\n\u001b[0;32m    853\u001b[0m     \u001b[39m# Binary mode does not support 'encoding' and 'newline'.\u001b[39;00m\n\u001b[0;32m    854\u001b[0m     \u001b[39mif\u001b[39;00m ioargs\u001b[39m.\u001b[39mencoding \u001b[39mand\u001b[39;00m \u001b[39m\"\u001b[39m\u001b[39mb\u001b[39m\u001b[39m\"\u001b[39m \u001b[39mnot\u001b[39;00m \u001b[39min\u001b[39;00m ioargs\u001b[39m.\u001b[39mmode:\n\u001b[0;32m    855\u001b[0m         \u001b[39m# Encoding\u001b[39;00m\n\u001b[1;32m--> 856\u001b[0m         handle \u001b[39m=\u001b[39m \u001b[39mopen\u001b[39;49m(\n\u001b[0;32m    857\u001b[0m             handle,\n\u001b[0;32m    858\u001b[0m             ioargs\u001b[39m.\u001b[39;49mmode,\n\u001b[0;32m    859\u001b[0m             encoding\u001b[39m=\u001b[39;49mioargs\u001b[39m.\u001b[39;49mencoding,\n\u001b[0;32m    860\u001b[0m             errors\u001b[39m=\u001b[39;49merrors,\n\u001b[0;32m    861\u001b[0m             newline\u001b[39m=\u001b[39;49m\u001b[39m\"\u001b[39;49m\u001b[39m\"\u001b[39;49m,\n\u001b[0;32m    862\u001b[0m         )\n\u001b[0;32m    863\u001b[0m     \u001b[39melse\u001b[39;00m:\n\u001b[0;32m    864\u001b[0m         \u001b[39m# Binary mode\u001b[39;00m\n\u001b[0;32m    865\u001b[0m         handle \u001b[39m=\u001b[39m \u001b[39mopen\u001b[39m(handle, ioargs\u001b[39m.\u001b[39mmode)\n",
            "\u001b[1;31mFileNotFoundError\u001b[0m: [Errno 2] No such file or directory: 'application_record.csv'"
          ]
        }
      ],
      "source": [
        "from scipy.stats import chi2_contingency\n",
        "import pandas as pd\n",
        "\n",
        "# defining the table\n",
        "\n",
        "data = pd.read_csv(\"application_record.csv\")\n",
        "df = pd.DataFrame(data)\n",
        "\n",
        "data2 = [df['AMT_INCOME_TOTAL'], df['CNT_FAM_MEMBERS']]\n",
        "\n",
        "stat, p, dof, expected = chi2_contingency(data2)\n",
        "\n",
        "# interpret p-value\n",
        "alpha = 0.05\n",
        "\n",
        "print(\"p value is \" + str(p))\n",
        "if p <= alpha:\n",
        "\tprint('The variables are dependent.')\n",
        "else:\n",
        "\tprint('The variables are independent')\n"
      ]
    }
  ],
  "metadata": {
    "colab": {
      "provenance": []
    },
    "kernelspec": {
      "display_name": "Python 3",
      "language": "python",
      "name": "python3"
    },
    "language_info": {
      "codemirror_mode": {
        "name": "ipython",
        "version": 3
      },
      "file_extension": ".py",
      "mimetype": "text/x-python",
      "name": "python",
      "nbconvert_exporter": "python",
      "pygments_lexer": "ipython3",
      "version": "3.10.6"
    },
    "vscode": {
      "interpreter": {
        "hash": "c05676d8e3c47bec073c1d4b418a609c7b77359541441f8febf25604c0e144b9"
      }
    }
  },
  "nbformat": 4,
  "nbformat_minor": 0
}
